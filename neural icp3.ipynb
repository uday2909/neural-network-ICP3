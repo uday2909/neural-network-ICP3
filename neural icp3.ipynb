{
 "cells": [
  {
   "cell_type": "code",
   "execution_count": null,
   "id": "8fe09360",
   "metadata": {},
   "outputs": [],
   "source": [
    "1. Create a class Employee and then do the following\n",
    "• Create a data member to count the number of Employees\n",
    "• Create a constructor to initialize name, family, salary, department\n",
    "• Create a function to average salary\n",
    "• Create a Fulltime Employee class and it should inherit the properties of Employee class\n",
    "• Create the instances of Fulltime Employee class and Employee class and call their member functions."
   ]
  },
  {
   "cell_type": "code",
   "execution_count": 1,
   "id": "630fe72e",
   "metadata": {},
   "outputs": [
    {
     "name": "stdout",
     "output_type": "stream",
     "text": [
      "Average salary: $61666.67\n",
      "Total employees: 3\n"
     ]
    }
   ],
   "source": [
    "class Employee:\n",
    "    total_employees = 0\n",
    "\n",
    "    def __init__(self, name, family, salary, department):\n",
    "        self.name = name\n",
    "        self.family = family\n",
    "        self.salary = salary\n",
    "        self.department = department\n",
    "        Employee.total_employees += 1\n",
    "\n",
    "    def average_salary(self, employee_list):\n",
    "        total_salary = 0\n",
    "        for e in employee_list:\n",
    "            total_salary += e.salary\n",
    "        return total_salary / len(employee_list)\n",
    "\n",
    "class FulltimeEmployee(Employee):\n",
    "    def __init__(self, name, family, salary, department):\n",
    "        super().__init__(name, family, salary, department)\n",
    "\n",
    "# Creating instances of Employee and FulltimeEmployee classes\n",
    "employee1 = Employee(\"John Doe\", \"Family A\", 60000, \"HR\")\n",
    "employee2 = Employee(\"Jane Smith\", \"Family B\", 55000, \"IT\")\n",
    "fulltime_employee1 = FulltimeEmployee(\"Alice Johnson\", \"Family C\", 70000, \"Finance\")\n",
    "\n",
    "# Calling member functions\n",
    "employees = [employee1, employee2, fulltime_employee1]\n",
    "avg_salary = employee1.average_salary(employees)\n",
    "print(f\"Average salary: ${avg_salary:.2f}\")\n",
    "print(f\"Total employees: {Employee.total_employees}\")"
   ]
  },
  {
   "cell_type": "code",
   "execution_count": null,
   "id": "b0dea230",
   "metadata": {},
   "outputs": [],
   "source": [
    "2. Numpy\n",
    "Using NumPy create random vector of size 20 having only float in the range 1-20.\n",
    "Then reshape the array to 4 by 5\n",
    "Then replace the max in each row by 0 (axis=1)\n",
    "(you can NOT implement it via for loop)"
   ]
  },
  {
   "cell_type": "code",
   "execution_count": 2,
   "id": "bebafd6a",
   "metadata": {},
   "outputs": [
    {
     "name": "stdout",
     "output_type": "stream",
     "text": [
      "original vector :  [12.24770334  5.68016086 16.84576277  3.84752509  4.80283023 17.14074919\n",
      " 14.92945107 15.10218988  3.90311395  4.08942718 16.86064639 11.02634371\n",
      "  9.23371671 12.90602173  6.03089328 17.28168941  2.29418961 19.66984433\n",
      " 19.12159907 15.43529976]\n",
      "Original reshaped array:\n",
      "[[12.24770334  5.68016086  0.          3.84752509  4.80283023]\n",
      " [ 0.         14.92945107 15.10218988  3.90311395  4.08942718]\n",
      " [ 0.         11.02634371  9.23371671 12.90602173  6.03089328]\n",
      " [17.28168941  2.29418961  0.         19.12159907 15.43529976]]\n"
     ]
    }
   ],
   "source": [
    "import numpy as np\n",
    "\n",
    "\n",
    "random_vector = np.random.uniform(1, 20, size=20)\n",
    "\n",
    "print(\"original vector : \",random_vector)\n",
    "\n",
    "reshaped_array = random_vector.reshape(4, 5)\n",
    "\n",
    "\n",
    "reshaped_array[np.arange(reshaped_array.shape[0]), np.argmax(reshaped_array, axis=1)] = 0\n",
    "\n",
    "print(\"Original reshaped array:\")\n",
    "print(reshaped_array)"
   ]
  }
 ],
 "metadata": {
  "kernelspec": {
   "display_name": "Python 3 (ipykernel)",
   "language": "python",
   "name": "python3"
  },
  "language_info": {
   "codemirror_mode": {
    "name": "ipython",
    "version": 3
   },
   "file_extension": ".py",
   "mimetype": "text/x-python",
   "name": "python",
   "nbconvert_exporter": "python",
   "pygments_lexer": "ipython3",
   "version": "3.10.9"
  }
 },
 "nbformat": 4,
 "nbformat_minor": 5
}
